{
  "nbformat": 4,
  "nbformat_minor": 0,
  "metadata": {
    "colab": {
      "name": "tensorflow03.ipynb",
      "version": "0.3.2",
      "provenance": [],
      "collapsed_sections": [],
      "include_colab_link": true
    },
    "kernelspec": {
      "name": "python3",
      "display_name": "Python 3"
    }
  },
  "cells": [
    {
      "cell_type": "markdown",
      "metadata": {
        "id": "view-in-github",
        "colab_type": "text"
      },
      "source": [
        "<a href=\"https://colab.research.google.com/github/Seongpo/TFLearn/blob/master/tensorflow03.ipynb\" target=\"_parent\"><img src=\"https://colab.research.google.com/assets/colab-badge.svg\" alt=\"Open In Colab\"/></a>"
      ]
    },
    {
      "metadata": {
        "id": "tMP01Q3Ds8lM",
        "colab_type": "code",
        "colab": {}
      },
      "cell_type": "code",
      "source": [
        "import tensorflow as tf\n",
        "\n",
        "x_data = [[1,2,1], [1,3,2], [1,3,4], [1,5,5], [1,7,5], [1,2,5], [1,6,6], [1,7,7]]\n",
        "y_data = [[0,0,1], [0,0,1], [0,0,1], [0,1,0], [0,1,0], [0,1,0], [1,0,0], [1,0,0]]\n",
        "\n",
        "x_test = [[2,1,1], [3,1,2], [3,3,4]]\n",
        "y_test = [[0,0,1], [0,0,1], [0,0,1]]\n",
        "\n",
        "X = tf.placeholder(\"float\", [None, 3])\n",
        "Y = tf.placeholder(\"float\", [None, 3])\n",
        "W = tf.Variable(tf.random_normal([3, 3]))\n",
        "b = tf.Variable(tf.random_normal([3]))\n",
        "\n",
        "hypothesis = tf.nn.softmax(tf.matmul(X,W)+b)\n",
        "cost = tf.reduce_mean(-tf.reduce_sum(Y*tf.log(hypothesis), axis = 1))\n",
        "optimizer = tf.train.GradientDescentOptimizer(learning_rate = 0.1).minimize(cost)\n",
        "\n",
        "prediction = tf.arg_max(hypothesis, 1)\n",
        "is_correct = tf.equal(prediction, tf.arg_max(Y,1))\n",
        "accuracy = tf.reduce_mean(tf.cast(is_correct, tf.float32))\n",
        "\n",
        "with tf.Session() as sess:\n",
        "    sess.run(tf.global_variables_initializer())\n",
        "    for step in range(201):\n",
        "        cost_val, W_val, _ = sess.run([cost, W, optimizer], feed_dict = {X:x_data, Y:y_data})\n",
        "        print(step, cost_val, W_val)\n",
        "        \n",
        "    print(\"Prediction:\", sess.run(prediction, feed_dict={X:x_test}))\n",
        "    print(\"Accuracy:\", sess.run(accuracy, feed_dict={X:x_test, Y:y_test}))"
      ],
      "execution_count": 0,
      "outputs": []
    },
    {
      "metadata": {
        "id": "MHujY4UDx1NE",
        "colab_type": "code",
        "colab": {}
      },
      "cell_type": "code",
      "source": [
        "import ssl\n",
        "ssl._create_default_https_context = ssl._create_unverified_context"
      ],
      "execution_count": 0,
      "outputs": []
    },
    {
      "metadata": {
        "id": "TrnyYdaA0u5e",
        "colab_type": "code",
        "outputId": "cac3a1f0-eab4-4f5e-860d-edc86eb38628",
        "colab": {
          "base_uri": "https://localhost:8080/",
          "height": 89
        }
      },
      "cell_type": "code",
      "source": [
        "from tensorflow.examples.tutorials.mnist import input_data\n",
        "mnist = input_data.read_data_sets(\"MNIST_data/\", one_hot=True)"
      ],
      "execution_count": 0,
      "outputs": [
        {
          "output_type": "stream",
          "text": [
            "Extracting MNIST_data/train-images-idx3-ubyte.gz\n",
            "Extracting MNIST_data/train-labels-idx1-ubyte.gz\n",
            "Extracting MNIST_data/t10k-images-idx3-ubyte.gz\n",
            "Extracting MNIST_data/t10k-labels-idx1-ubyte.gz\n"
          ],
          "name": "stdout"
        }
      ]
    },
    {
      "metadata": {
        "id": "nc7Vz9wL1e41",
        "colab_type": "code",
        "outputId": "56e684d6-961b-421a-b49f-d17acd5c6415",
        "colab": {
          "base_uri": "https://localhost:8080/",
          "height": 671
        }
      },
      "cell_type": "code",
      "source": [
        "import tensorflow as tf\n",
        "import matplotlib.pyplot as plt\n",
        "import random\n",
        "\n",
        "nb_classes = 10\n",
        "X = tf.placeholder(tf.float32, [None, 784])\n",
        "Y = tf.placeholder(tf.float32, [None, nb_classes])\n",
        "\n",
        "W = tf.Variable(tf.random_normal([784, nb_classes]))\n",
        "b = tf.Variable(tf.random_normal([nb_classes]))\n",
        "\n",
        "hypothesis = tf.nn.softmax(tf.matmul(X,W)+b)\n",
        "\n",
        "cost = tf.reduce_mean(-tf.reduce_sum(Y*tf.log(hypothesis), axis = 1))\n",
        "optimizer = tf.train.GradientDescentOptimizer(learning_rate=0.1).minimize(cost)\n",
        "\n",
        "is_correct = tf.equal(tf.argmax(hypothesis,1), tf.argmax(Y,1))\n",
        "accuracy = tf.reduce_mean(tf.cast(is_correct, tf.float32)) \n",
        "\n",
        "\n",
        "training_epochs = 15\n",
        "batch_size = 100\n",
        "\n",
        "with tf.Session() as sess:\n",
        "    sess.run(tf.global_variables_initializer())\n",
        "    \n",
        "    for epoch in range(training_epochs):\n",
        "        avg_cost = 0\n",
        "        total_batch = int(mnist.train.num_examples / batch_size)\n",
        "        \n",
        "        for i in range(total_batch):\n",
        "            batch_xs, batch_ys = mnist.train.next_batch(batch_size)\n",
        "            c, _ = sess.run([cost, optimizer], feed_dict = {X:batch_xs, Y:batch_ys})\n",
        "            avg_cost +=c /total_batch\n",
        "            \n",
        "        print('Epoch:', '%04d'%(epoch +1), 'cost  = ', '{:.9f}'.format(avg_cost))\n",
        "        \n",
        "    r = random.randint(0, mnist.test.num_examples - 1)\n",
        "    print(\"Label:\", sess.run(tf.argmax(mnist.test.labels[r:r+1], 1)))\n",
        "    print(\"Prediction\", sess.run(tf.argmax(hypothesis, 1), feed_dict = {X:mnist.test.images[r:r+1]}))\n",
        "\n",
        "plt.imshow(mnist.test.images[r:r+1].reshape(28, 28), cmap='Greys', interpolation = 'nearest')\n",
        "plt.show\n",
        "        "
      ],
      "execution_count": 0,
      "outputs": [
        {
          "output_type": "stream",
          "text": [
            "Epoch: 0001 cost  =  2.872559054\n",
            "Epoch: 0002 cost  =  1.121559674\n",
            "Epoch: 0003 cost  =  0.882330672\n",
            "Epoch: 0004 cost  =  0.767528795\n",
            "Epoch: 0005 cost  =  0.696925961\n",
            "Epoch: 0006 cost  =  0.646821055\n",
            "Epoch: 0007 cost  =  0.608378495\n",
            "Epoch: 0008 cost  =  0.578764726\n",
            "Epoch: 0009 cost  =  0.553712915\n",
            "Epoch: 0010 cost  =  0.533250408\n",
            "Epoch: 0011 cost  =  0.515848463\n",
            "Epoch: 0012 cost  =  0.500793716\n",
            "Epoch: 0013 cost  =  0.487121431\n",
            "Epoch: 0014 cost  =  0.475606425\n",
            "Epoch: 0015 cost  =  0.465318061\n",
            "Label: [4]\n",
            "Prediction [4]\n"
          ],
          "name": "stdout"
        },
        {
          "output_type": "execute_result",
          "data": {
            "text/plain": [
              "<function matplotlib.pyplot.show>"
            ]
          },
          "metadata": {
            "tags": []
          },
          "execution_count": 16
        },
        {
          "output_type": "display_data",
          "data": {
            "image/png": "[encoded data removed]",
            "text/plain": [
              "<matplotlib.figure.Figure at 0x7f270ff502e8>"
            ]
          },
          "metadata": {
            "tags": []
          }
        }
      ]
    },
    {
      "metadata": {
        "id": "rskAlwrP6Rog",
        "colab_type": "code",
        "colab": {}
      },
      "cell_type": "code",
      "source": [
        "with tf.Session() as sess:\n",
        "    r = random.randint(0, mnist.test.num_examples - 1)\n",
        "    print(\"Label:\", sess.run(tf.argmax(mnist.test.labels[r:r+1], 1)))\n",
        "    print(\"Prediction\", sess.run(tf.argmax(hypothesis, 1), feed_dict = {X:mnist.test.images[r:r+1]}))\n",
        "\n",
        "plt.imshow(mnist.test.images[r:r+1].reshape(28, 28), cmap='Greys', interpolation = 'nearest')\n",
        "plt.show"
      ],
      "execution_count": 0,
      "outputs": []
    },
    {
      "metadata": {
        "id": "VECjWu7h-daI",
        "colab_type": "code",
        "colab": {}
      },
      "cell_type": "code",
      "source": [
        ""
      ],
      "execution_count": 0,
      "outputs": []
    }
  ]
}